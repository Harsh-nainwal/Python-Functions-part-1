{
 "cells": [
  {
   "cell_type": "markdown",
   "id": "0e2f91eb-6665-4e3b-9314-21314ed55cf1",
   "metadata": {},
   "source": [
    "Q1. Which keyword is used to create a function? Create a function to return a list of odd numbers in the\n",
    "range of 1 to 25."
   ]
  },
  {
   "cell_type": "markdown",
   "id": "4dc5d8fe-985c-4c0a-8598-67d826ce3396",
   "metadata": {},
   "source": [
    "Ans1 : 'def' is used to create a function. The required function is : "
   ]
  },
  {
   "cell_type": "code",
   "execution_count": 2,
   "id": "c8d24e43-1afc-4bf7-a037-258fefed1df3",
   "metadata": {},
   "outputs": [],
   "source": [
    "def odd():\n",
    "    l1=[]\n",
    "    for i in range(1,26):\n",
    "        if i%2 != 0:\n",
    "            l1.append(i)\n",
    "    return l1"
   ]
  },
  {
   "cell_type": "code",
   "execution_count": 3,
   "id": "ff960cbc-d507-49b2-8226-c1337d445ad6",
   "metadata": {},
   "outputs": [
    {
     "data": {
      "text/plain": [
       "[1, 3, 5, 7, 9, 11, 13, 15, 17, 19, 21, 23, 25]"
      ]
     },
     "execution_count": 3,
     "metadata": {},
     "output_type": "execute_result"
    }
   ],
   "source": [
    "odd()"
   ]
  },
  {
   "cell_type": "markdown",
   "id": "089b74e4-9d9c-4efc-a9c2-fc7768cd90c1",
   "metadata": {},
   "source": [
    "Q2. Why *args and **kwargs is used in some functions? Create a function each for *args and **kwargs\n",
    "to demonstrate their use."
   ]
  },
  {
   "cell_type": "markdown",
   "id": "fc48884b-b4f1-4077-bf35-c78238f384a9",
   "metadata": {},
   "source": [
    "Ans2 : We use \"*args\" when we are not sure how many input parameters we want to give in the function. Example : "
   ]
  },
  {
   "cell_type": "code",
   "execution_count": 8,
   "id": "ccc10888-6fab-4703-bae2-a4bd5c128991",
   "metadata": {},
   "outputs": [],
   "source": [
    "def funcky(*args):\n",
    "    total = 0\n",
    "    for i in args:\n",
    "        total += i\n",
    "    return total"
   ]
  },
  {
   "cell_type": "code",
   "execution_count": 9,
   "id": "226a97b5-2ec9-40fd-afdc-c8197f5acca3",
   "metadata": {},
   "outputs": [
    {
     "data": {
      "text/plain": [
       "44"
      ]
     },
     "execution_count": 9,
     "metadata": {},
     "output_type": "execute_result"
    }
   ],
   "source": [
    "funcky(2,3,4,5,6,7,8,9)"
   ]
  },
  {
   "cell_type": "markdown",
   "id": "0d60fc79-0099-4039-9160-4bcac9a54f7a",
   "metadata": {},
   "source": [
    "We use \"**kwargs\" when we are not sure how many dictionary data type inputs we want to give as the function parameter. Example : "
   ]
  },
  {
   "cell_type": "code",
   "execution_count": 10,
   "id": "e1f4e618-401c-4b5d-aaf8-181c8455587e",
   "metadata": {},
   "outputs": [],
   "source": [
    "def values(**kwargs):\n",
    "    for key,value in kwargs.items():\n",
    "        print(f\"{key} : {value}\")"
   ]
  },
  {
   "cell_type": "code",
   "execution_count": 13,
   "id": "f705358f-f1cd-43c6-a925-41923b928ada",
   "metadata": {},
   "outputs": [
    {
     "name": "stdout",
     "output_type": "stream",
     "text": [
      "Name : Geetika\n",
      "Age : 19\n",
      "Course : Data Science\n"
     ]
    }
   ],
   "source": [
    "values(Name=\"Geetika\",Age=19,Course=\"Data Science\")"
   ]
  },
  {
   "cell_type": "markdown",
   "id": "eeba58d8-05dc-4fa7-928a-8d15444cb88d",
   "metadata": {},
   "source": [
    "Q3. What is an iterator in python? Name the method used to initialise the iterator object and the method\n",
    "used for iteration. Use these methods to print the first five elements of the given list [2, 4, 6, 8, 10, 12, 14,\n",
    "16, 18, 20]."
   ]
  },
  {
   "cell_type": "markdown",
   "id": "f1edb638-a15b-41b5-9b29-276468fe7055",
   "metadata": {},
   "source": [
    "Ans3 : Iterators are used to iterate over a sequence of elements, allowing you to access each element one by one.\n",
    "The iter() method is used to initialize an iterator object.\n",
    "The next() method is used to retrieve the next element from the iterator.\n"
   ]
  },
  {
   "cell_type": "code",
   "execution_count": 15,
   "id": "6688445a-fbc5-4a25-9f68-021dfd54af39",
   "metadata": {},
   "outputs": [
    {
     "name": "stdout",
     "output_type": "stream",
     "text": [
      "2\n",
      "4\n",
      "6\n",
      "8\n",
      "10\n"
     ]
    }
   ],
   "source": [
    "l = [2, 4, 6, 8, 10, 12, 14, 16, 18, 20]\n",
    "l_iter = iter(l)\n",
    "for i in range(5):\n",
    "    print(next(l_iter))"
   ]
  },
  {
   "cell_type": "markdown",
   "id": "fa7bf37f-f395-4e81-b6aa-b0063d18d93d",
   "metadata": {},
   "source": [
    "Q4. What is a generator function in python? Why yield keyword is used? Give an example of a generator\n",
    "function."
   ]
  },
  {
   "cell_type": "markdown",
   "id": "8cf0d234-bb5a-4bc9-857e-4398781bdaa2",
   "metadata": {},
   "source": [
    "Ans4 : Generator function is a special type of function that generates an iterator. It uses 'yield' keyword instead of 'return' to return the values in a function.\n",
    "'Yield' keyword is used to pause the function at the given value, return it and then continue from the next value.\n",
    "Example of generator function : "
   ]
  },
  {
   "cell_type": "code",
   "execution_count": 16,
   "id": "9414393e-3a4b-40b2-b44d-4d0894af7dd2",
   "metadata": {},
   "outputs": [],
   "source": [
    "def power(n):\n",
    "    for i in range(n):\n",
    "        yield i**3"
   ]
  },
  {
   "cell_type": "code",
   "execution_count": 18,
   "id": "5410b1eb-81b3-46e2-9709-f52ae0a29ddf",
   "metadata": {},
   "outputs": [
    {
     "data": {
      "text/plain": [
       "[0, 1, 8, 27, 64, 125]"
      ]
     },
     "execution_count": 18,
     "metadata": {},
     "output_type": "execute_result"
    }
   ],
   "source": [
    "list(power(6))"
   ]
  },
  {
   "cell_type": "markdown",
   "id": "6b9ee177-012b-421d-b968-c4e5b5d7eb21",
   "metadata": {},
   "source": [
    "Q5. Create a generator function for prime numbers less than 1000. Use the next() method to print the\n",
    "first 20 prime numbers."
   ]
  },
  {
   "cell_type": "code",
   "execution_count": 32,
   "id": "163e14ea-c4d1-45d0-84d6-1ec2a9f5cda2",
   "metadata": {},
   "outputs": [],
   "source": [
    "def prime():\n",
    "    for i in range(2,1001):\n",
    "        for j in range(2,i):\n",
    "            if i%j == 0:\n",
    "                break\n",
    "        else:\n",
    "            yield i\n",
    "            count+=1"
   ]
  },
  {
   "cell_type": "code",
   "execution_count": 30,
   "id": "93fa5719-a892-4c2e-8640-dad1ec447617",
   "metadata": {},
   "outputs": [],
   "source": [
    "prime_iter = prime()"
   ]
  },
  {
   "cell_type": "code",
   "execution_count": 33,
   "id": "78c6477b-56f1-4609-9e1d-e0817cfe4638",
   "metadata": {},
   "outputs": [
    {
     "name": "stdout",
     "output_type": "stream",
     "text": [
      "2\n",
      "3\n",
      "5\n",
      "7\n",
      "11\n",
      "13\n",
      "17\n",
      "19\n",
      "23\n",
      "29\n",
      "31\n",
      "37\n",
      "41\n",
      "43\n",
      "47\n",
      "53\n",
      "59\n",
      "61\n",
      "67\n",
      "71\n"
     ]
    }
   ],
   "source": [
    "for i in range(20):\n",
    "    print(next(prime_iter))"
   ]
  },
  {
   "cell_type": "markdown",
   "id": "9d4f6959-8b4b-449a-bab7-3eb5aacf0c29",
   "metadata": {},
   "source": [
    "Q6. Write a python program to print the first 10 Fibonacci numbers using a while loop."
   ]
  },
  {
   "cell_type": "code",
   "execution_count": 36,
   "id": "fe615672-92f5-4219-9f0e-c265a63888c7",
   "metadata": {},
   "outputs": [
    {
     "name": "stdout",
     "output_type": "stream",
     "text": [
      "0\n",
      "1\n",
      "1\n",
      "2\n",
      "3\n",
      "5\n",
      "8\n",
      "13\n",
      "21\n",
      "34\n"
     ]
    }
   ],
   "source": [
    "a = 0\n",
    "b = 1\n",
    "count = 0\n",
    "print(a)\n",
    "print(b)\n",
    "while count < 8:\n",
    "    c = a+b\n",
    "    print(c)\n",
    "    a,b = b,c\n",
    "    count+=1"
   ]
  },
  {
   "cell_type": "markdown",
   "id": "87740cc0-13dc-43fe-a062-7737ae5bd866",
   "metadata": {},
   "source": [
    "Q7. Write a List Comprehension to iterate through the given string: ‘pwskills’.\n",
    "Expected output: ['p', 'w', 's', 'k', 'i', 'l', 'l', 's']"
   ]
  },
  {
   "cell_type": "code",
   "execution_count": 23,
   "id": "b075ee34-5970-498f-8ded-233715cca023",
   "metadata": {},
   "outputs": [],
   "source": [
    "s = \"pwskills\""
   ]
  },
  {
   "cell_type": "code",
   "execution_count": 24,
   "id": "adfb428f-beeb-49d7-902e-f0049710f2ed",
   "metadata": {},
   "outputs": [],
   "source": [
    "res = [i for i in s]"
   ]
  },
  {
   "cell_type": "code",
   "execution_count": 25,
   "id": "e285d08a-1075-4a76-95d7-61e6db6cf871",
   "metadata": {},
   "outputs": [
    {
     "name": "stdout",
     "output_type": "stream",
     "text": [
      "['p', 'w', 's', 'k', 'i', 'l', 'l', 's']\n"
     ]
    }
   ],
   "source": [
    "print(res)"
   ]
  },
  {
   "cell_type": "markdown",
   "id": "61854be9-4156-4701-bac6-fb355a88334a",
   "metadata": {},
   "source": [
    "Q8. Write a python program to check whether a given number is Palindrome or not using a while loop."
   ]
  },
  {
   "cell_type": "code",
   "execution_count": 26,
   "id": "c4e9da90-5118-4f3e-8433-029992d01037",
   "metadata": {},
   "outputs": [
    {
     "name": "stdin",
     "output_type": "stream",
     "text": [
      "Enter a number :  23432\n"
     ]
    },
    {
     "name": "stdout",
     "output_type": "stream",
     "text": [
      "The given number is a palindrome\n"
     ]
    }
   ],
   "source": [
    "n = int(input(\"Enter a number : \"))\n",
    "a = n\n",
    "b = \"\"\n",
    "rem = 0\n",
    "while n :\n",
    "    rem = n%10\n",
    "    n = n//10\n",
    "    b += str(rem)\n",
    "if b == str(a):\n",
    "    print(\"The given number is a palindrome\")\n",
    "else:\n",
    "    print(\"The number is not a palindrome.\")"
   ]
  },
  {
   "cell_type": "markdown",
   "id": "837820a6-370f-4be1-bc27-5af8f0652cc1",
   "metadata": {},
   "source": [
    "Q9. Write a code to print odd numbers from 1 to 100 using list comprehension.\n",
    "Note: Use a list comprehension to create a list from 1 to 100 and use another List comprehension to filter\n",
    "out odd numbers."
   ]
  },
  {
   "cell_type": "code",
   "execution_count": 27,
   "id": "e60ce649-bb10-42a1-b7aa-8b65d5907976",
   "metadata": {},
   "outputs": [],
   "source": [
    "list1 = [i for i in range(1,101)]"
   ]
  },
  {
   "cell_type": "code",
   "execution_count": 30,
   "id": "35cee63f-a04f-4f0e-a1cc-5485361ed982",
   "metadata": {},
   "outputs": [
    {
     "data": {
      "text/plain": [
       "[1,\n",
       " 3,\n",
       " 5,\n",
       " 7,\n",
       " 9,\n",
       " 11,\n",
       " 13,\n",
       " 15,\n",
       " 17,\n",
       " 19,\n",
       " 21,\n",
       " 23,\n",
       " 25,\n",
       " 27,\n",
       " 29,\n",
       " 31,\n",
       " 33,\n",
       " 35,\n",
       " 37,\n",
       " 39,\n",
       " 41,\n",
       " 43,\n",
       " 45,\n",
       " 47,\n",
       " 49,\n",
       " 51,\n",
       " 53,\n",
       " 55,\n",
       " 57,\n",
       " 59,\n",
       " 61,\n",
       " 63,\n",
       " 65,\n",
       " 67,\n",
       " 69,\n",
       " 71,\n",
       " 73,\n",
       " 75,\n",
       " 77,\n",
       " 79,\n",
       " 81,\n",
       " 83,\n",
       " 85,\n",
       " 87,\n",
       " 89,\n",
       " 91,\n",
       " 93,\n",
       " 95,\n",
       " 97,\n",
       " 99]"
      ]
     },
     "execution_count": 30,
     "metadata": {},
     "output_type": "execute_result"
    }
   ],
   "source": [
    "list(filter(lambda x: x%2 != 0, list1))"
   ]
  },
  {
   "cell_type": "code",
   "execution_count": null,
   "id": "5cf88b92-106c-4eb4-8995-b6164f4f0220",
   "metadata": {},
   "outputs": [],
   "source": []
  }
 ],
 "metadata": {
  "kernelspec": {
   "display_name": "Python 3 (ipykernel)",
   "language": "python",
   "name": "python3"
  },
  "language_info": {
   "codemirror_mode": {
    "name": "ipython",
    "version": 3
   },
   "file_extension": ".py",
   "mimetype": "text/x-python",
   "name": "python",
   "nbconvert_exporter": "python",
   "pygments_lexer": "ipython3",
   "version": "3.10.8"
  }
 },
 "nbformat": 4,
 "nbformat_minor": 5
}
